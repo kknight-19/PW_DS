{
 "cells": [
  {
   "cell_type": "markdown",
   "id": "4eb49a37-c56d-4144-ada4-236bc1faf310",
   "metadata": {},
   "source": [
    "## 1. Discuss string slicing and provide examples"
   ]
  },
  {
   "cell_type": "code",
   "execution_count": 18,
   "id": "902eab09-235d-439d-98b2-97256b299e99",
   "metadata": {},
   "outputs": [
    {
     "name": "stdout",
     "output_type": "stream",
     "text": [
      "Hello\n",
      "World\n",
      "Hello World\n"
     ]
    }
   ],
   "source": [
    "# A feature that allows us to extract a subset of a character from a string.\n",
    "\n",
    "#Example\n",
    "var1=\"Hello World\"\n",
    "print(var1[0:5])   # this will print the charachter starting from 0th index upto 4th index\n",
    "print(var1[6:])    # this will print the character from 6th index upto last charachter\n",
    "\n",
    "#Negative index\n",
    "print(var1[-11:])"
   ]
  },
  {
   "cell_type": "markdown",
   "id": "ed18e600-aff8-48d8-b54f-6c53602c27b3",
   "metadata": {},
   "source": [
    "## 2. Explain the key features of list in python."
   ]
  },
  {
   "cell_type": "raw",
   "id": "f6f04185-be67-42cd-954a-d4f5843ebc4d",
   "metadata": {},
   "source": [
    "List is one of the most used data structure in Python programming.\n",
    "Some of the key features of the Lists are:\n",
    "\n",
    "# Mutable : It can be modified after creation, we can add, delete elements from the list\n",
    "# Ordered Collection - It maintained the order in which the elements were added\n",
    "# List can grow or srink as elements are addedd or removed from the lists.\n",
    "# We can easily access elements from the list using index\n",
    "# We can use slicing to extract particular or subsets of elements"
   ]
  },
  {
   "cell_type": "markdown",
   "id": "5f8d7ba5-5d75-489b-b071-935cd78c5dcd",
   "metadata": {},
   "source": [
    "## 3. Describe how to access, modify and delete elements in a list with examples"
   ]
  },
  {
   "cell_type": "code",
   "execution_count": 42,
   "id": "adfeb19f-c0bb-4cf6-8ebb-ddf43588f744",
   "metadata": {},
   "outputs": [],
   "source": [
    "marvel=[\"Thor\",\"Hulk\",\"Iron Man\",\"Spider Man\",\"Hulk\",\"Black Panther\",\"Captain America\"]"
   ]
  },
  {
   "cell_type": "code",
   "execution_count": 37,
   "id": "20a8aafe-cd1c-4050-ad89-d0b3db95f21d",
   "metadata": {},
   "outputs": [
    {
     "name": "stdout",
     "output_type": "stream",
     "text": [
      "Thor\n",
      "Iron Man\n"
     ]
    }
   ],
   "source": [
    "#Access elements from a List\n",
    "#to access elements from a list we use index as given below.\n",
    "\n",
    "print(marvel[0])  # this will print the 1st elements from the list marvel\n",
    "print(marvel[2])  # this will print the 3rd elements from the list marvel\n"
   ]
  },
  {
   "cell_type": "code",
   "execution_count": 43,
   "id": "b0ac6670-bbb7-4c66-93fc-2bf4dd45cba5",
   "metadata": {},
   "outputs": [
    {
     "name": "stdout",
     "output_type": "stream",
     "text": [
      "['Thor', 'Hulk', 'Iron Man', 'Spider Man', 'Hulk', 'Black Panther', 'Captain America']\n",
      "Spider Man\n",
      "['Thor', 'Hulk', 'Iron Man', 'Ant Man', 'Hulk', 'Black Panther', 'Captain America']\n"
     ]
    }
   ],
   "source": [
    "#Modifying elements in a list/replacing the current element with a new elements\n",
    "\n",
    "print(marvel) \n",
    "print(marvel[3])        # here the value of 3rd index is \"Spider Man\"\n",
    "marvel[3]=\"Ant Man\"    # her I'm assigning a new value at the 3rd index of list 'marvel'\n",
    "print(marvel)      #this will print the new element at 3rd index in list marvel"
   ]
  },
  {
   "cell_type": "code",
   "execution_count": 44,
   "id": "5f0dedf8-de31-4467-a147-70f662868f9b",
   "metadata": {},
   "outputs": [
    {
     "name": "stdout",
     "output_type": "stream",
     "text": [
      "['Thor', 'Hulk', 'Iron Man', 'Ant Man', 'Hulk', 'Black Panther', 'Captain America']\n",
      "['Thor', 'Hulk', 'Iron Man', 'Hulk', 'Black Panther', 'Captain America']\n"
     ]
    }
   ],
   "source": [
    "#deleteing the elements from a list\n",
    "#Pop\n",
    "print(marvel)\n",
    "marvel.pop(3)  # this will delete the element present at 3rd index\n",
    "print(marvel)"
   ]
  },
  {
   "cell_type": "code",
   "execution_count": 45,
   "id": "989bb14e-a691-40ac-b809-b59d016435f7",
   "metadata": {},
   "outputs": [
    {
     "name": "stdout",
     "output_type": "stream",
     "text": [
      "['Thor', 'Iron Man', 'Hulk', 'Black Panther', 'Captain America']\n"
     ]
    }
   ],
   "source": [
    "#Remove\n",
    "\n",
    "marvel.remove(\"Hulk\") # this will delete the first occurance of element 'Hulk' from the list\n",
    "print(marvel)"
   ]
  },
  {
   "cell_type": "markdown",
   "id": "1595d362-0636-4a51-81b9-8627ac870f0c",
   "metadata": {},
   "source": [
    "## 4. Compare and contrast tuples and list with examples"
   ]
  },
  {
   "cell_type": "raw",
   "id": "6891c765-62c9-4fce-9660-a85ab6bc217a",
   "metadata": {},
   "source": [
    "# Tuples are immutable, means that their value cannot be changed or modified after creation. While Lists are mutable, means their values can be changed after creation.\n",
    "\n",
    "# Tuples use parantheses (), while list uses square brackets []\n",
    "\n",
    "# Tuples are used to store the Data which doesn't require any modification after its creation like the Key of Dictionary. While the Lists are used to store the data where the values can be modified."
   ]
  },
  {
   "cell_type": "code",
   "execution_count": 4,
   "id": "cf531311-6125-44a6-b296-7807b26fc4f0",
   "metadata": {},
   "outputs": [
    {
     "name": "stdout",
     "output_type": "stream",
     "text": [
      "199.34\n"
     ]
    }
   ],
   "source": [
    "#Tuples Example\n",
    "#Tuple can be sliced and indexed, but it cannot be modififed\n",
    "\n",
    "tuple1=(\"Hulk\", 1, 199.34, 7+2j)\n",
    "print(tuple1[2])\n",
    "\n",
    "#  tuple1[0] = \"Thor\"     #This will give Error as tuple is immutable Data Structure"
   ]
  },
  {
   "cell_type": "code",
   "execution_count": 7,
   "id": "14227331-0bda-40f8-8936-687ba2cc0546",
   "metadata": {},
   "outputs": [
    {
     "name": "stdout",
     "output_type": "stream",
     "text": [
      "['BatMan', 'SuperMan']\n",
      "['BatMan', 'SuperMan', 'Joker', 'AquaMan']\n"
     ]
    }
   ],
   "source": [
    "#List Examples\n",
    "DC=[\"BatMan\", \"SuperMan\", \"Flash\", \"AquaMan\"]\n",
    "\n",
    "print(DC[0:2])\n",
    "DC[2] = \"Joker\"  #Thi will replace the value of 2nd index in list DC\n",
    "print(DC)"
   ]
  },
  {
   "cell_type": "markdown",
   "id": "59df12f4-b3a8-44d4-be9b-5e70043ca1c0",
   "metadata": {},
   "source": [
    "## 5. Describe the key features of sets and provide example"
   ]
  },
  {
   "cell_type": "code",
   "execution_count": 23,
   "id": "877d8296-1c2f-44fc-a908-96eddb30ef6a",
   "metadata": {},
   "outputs": [
    {
     "name": "stdout",
     "output_type": "stream",
     "text": [
      "{1, 2, 3, 23.4, 'Thor'}\n",
      "{33, 2, 4, 21, 6, 7}\n",
      "set1 (after adding 5) = {1, 2, 3, 5, 23.4, 'Thor'}\n",
      "set1 (after removing Thor) = {1, 2, 3, 5, 23.4}\n"
     ]
    }
   ],
   "source": [
    "# Sets are an uordered collection of unique values.\n",
    "# it will automatically elimantes the Duplicate Values.\n",
    "# Unlike the Tuples, in Set we can add or remove the elements. Set is a Mutable object\n",
    "\n",
    "set1={1,2,3,\"Thor\", 23.4}\n",
    "print(set1)\n",
    "\n",
    "set2={2,2,4,6,7,6,33,21,33}\n",
    "print(set2)   # this will remove the duplicate elements from the sets\n",
    "\n",
    "#Adding element in a set\n",
    "set1.add(5)\n",
    "print(\"set1 (after adding 5) =\",set1)\n",
    "\n",
    "#Adding element in a set\n",
    "set1.remove(\"Thor\")\n",
    "print(\"set1 (after removing Thor) =\",set1)"
   ]
  },
  {
   "cell_type": "markdown",
   "id": "b18659a6-8983-454c-bd6e-9e2e75e8ab4f",
   "metadata": {},
   "source": [
    "## 6. Discuss the use cases of tuples and sets in python programming"
   ]
  },
  {
   "cell_type": "code",
   "execution_count": 1,
   "id": "babb60ef-ef83-41b2-a829-e2c0c14c9ce5",
   "metadata": {},
   "outputs": [],
   "source": [
    "#Tuples Use Cases\n",
    "\n",
    "# 1. Tuples represents a collection of Data like a row in a Database.\n",
    "person=(\"Thor\", 540, \"Hammer\")\n",
    "\n",
    "# 2. It can use to store constants like Days of the Week, Months.\n",
    "days=(\"Monday\",\"Tuesday\",\"Wednesday\",\"Thursday\",\"Friday\",\"Saturday\",\"Sunday\")\n",
    "motnhs=(\"Jan\",\"Feb\",\"Mar\",\"Apr\",\"May\")#...\n",
    "\n",
    "# 3. Tuples are faster and memory efficient than lists."
   ]
  },
  {
   "cell_type": "code",
   "execution_count": 4,
   "id": "0f3bad35-f45f-4280-8928-eca39dd9a049",
   "metadata": {},
   "outputs": [
    {
     "name": "stdout",
     "output_type": "stream",
     "text": [
      "{'Thor', 'Hulk'}\n",
      "{'Hulk'}\n",
      "{'Batman', 'Thor', 'Hulk', 'Flash', 'IronMan', 'Superman'}\n"
     ]
    }
   ],
   "source": [
    "#Sets Use Cases\n",
    "\n",
    "# 1. Sets can be used tp remove duplicates from a Data.\n",
    "movie={\"Thor\",\"Hulk\",\"Thor\"}\n",
    "print(movie)  # this will remove the second occurance of \"Thor\"\n",
    "\n",
    "# 2. It can be be use to find common elements in 2 datasets.\n",
    "movie1={\"Thor\",\"Hulk\",\"IronMan\"}\n",
    "movie2={\"Batman\",\"Flash\",\"Superman\",\"Hulk\"}\n",
    "print(movie1 & movie2)   # this will print the common element in the 2 sets\n",
    "\n",
    "# 3. It can also be used to combine elements from 2 sets\n",
    "print(movie1 | movie2)"
   ]
  },
  {
   "cell_type": "markdown",
   "id": "f35d1c48-0ac2-46b1-bcb0-d75ccbc3b952",
   "metadata": {},
   "source": [
    "## 7. Describe how to add, modify and delete items in a dictionary with examples."
   ]
  },
  {
   "cell_type": "code",
   "execution_count": 21,
   "id": "8231d3a1-c3f2-4449-a035-475657819b48",
   "metadata": {},
   "outputs": [
    {
     "name": "stdout",
     "output_type": "stream",
     "text": [
      "{'name': 'Thor', 'age': 520, 'weapon': 'Hammer', 'level': 'god_of_lightning'}\n",
      "{'name': 'Thor', 'age': 520, 'weapon': 'Hammer', 'level': 'god_of_lightning', 'weapon_name': 'Mjolnir'}\n"
     ]
    }
   ],
   "source": [
    "# Add items in a Dictionary\n",
    "\n",
    "char={\"name\":\"Thor\", \"age\":520, \"weapon\":\"Hammer\"}\n",
    "char[\"level\"]=\"god_of_lightning\"   # this will create a key 'level' and assign the value as 'god' to same key.\n",
    "print(char)\n",
    "\n",
    "char.update({\"weapon_name\":\"Mjolnir\"}) \n",
    "print(char)"
   ]
  },
  {
   "cell_type": "code",
   "execution_count": 22,
   "id": "28abe7a3-19ae-42cf-839a-a46ece57d3a5",
   "metadata": {},
   "outputs": [
    {
     "name": "stdout",
     "output_type": "stream",
     "text": [
      "{'name': 'Thor', 'age': 520, 'weapon': 'Hammer', 'level': 'god_of_lightning', 'weapon_name': 'Stormbreaker'}\n",
      "{'name': 'Thor', 'age': 520, 'weapon': 'Hammer', 'level': 'god_of_lightning', 'weapon_name': 'NA'}\n"
     ]
    }
   ],
   "source": [
    "# Modify items in the dictionary\n",
    "\n",
    "char[\"weapon_name\"]=\"Stormbreaker\"  # this will assign the new value to key weapon_name\n",
    "print(char)\n",
    "\n",
    "char.update({\"weapon_name\":\"NA\"})\n",
    "print(char)"
   ]
  },
  {
   "cell_type": "code",
   "execution_count": 23,
   "id": "0f9cf716-88db-4131-96da-aa81a6e4b563",
   "metadata": {},
   "outputs": [
    {
     "name": "stdout",
     "output_type": "stream",
     "text": [
      "{'name': 'Thor', 'age': 520, 'weapon': 'Hammer', 'weapon_name': 'NA'}\n",
      "{'name': 'Thor', 'age': 520, 'weapon': 'Hammer'}\n",
      "{}\n"
     ]
    }
   ],
   "source": [
    "# Delete items in the dictionary\n",
    "\n",
    "del char[\"level\"] # this will delete the key 'level' and the respective value as well.\n",
    "print(char)\n",
    "\n",
    "\n",
    "char.pop(\"weapon_name\")\n",
    "print(char)\n",
    "\n",
    "char.clear()  # this will remove all the key-values pair from Dictionary and gives you an empty dict\n",
    "print(char)"
   ]
  },
  {
   "cell_type": "markdown",
   "id": "f957e33f-2549-441e-bc2b-04d58605bfcf",
   "metadata": {},
   "source": [
    "## 8. Discuss the importance of dictionary keys being immutable and provide examples."
   ]
  },
  {
   "cell_type": "code",
   "execution_count": 28,
   "id": "0d3dc4fa-9810-45a9-bb13-f7c46211ad18",
   "metadata": {},
   "outputs": [],
   "source": [
    "market={\"item_type\":\"Fruit\",\"item_name\":\"Apple\", \"quantity\":4, \"quality\":\"Fresh\"}\n",
    "\n",
    "#Immutable keys gurantess uniqness, as changing a key would create a new key, leading to duplicate keys\n",
    "\n",
    "#Immutable keys enables fast lookups, as the values can be calculated and compared quickly\n",
    "\n",
    "#In the above dictionary the keys are used to calculate a hash value, which is used to store and\n",
    "#retrieve values efficiently. Immutable keys ensure consitenet hash values"
   ]
  }
 ],
 "metadata": {
  "kernelspec": {
   "display_name": "Python 3 (ipykernel)",
   "language": "python",
   "name": "python3"
  },
  "language_info": {
   "codemirror_mode": {
    "name": "ipython",
    "version": 3
   },
   "file_extension": ".py",
   "mimetype": "text/x-python",
   "name": "python",
   "nbconvert_exporter": "python",
   "pygments_lexer": "ipython3",
   "version": "3.10.8"
  }
 },
 "nbformat": 4,
 "nbformat_minor": 5
}
