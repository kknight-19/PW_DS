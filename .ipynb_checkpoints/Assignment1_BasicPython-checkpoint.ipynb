{
 "cells": [
  {
   "cell_type": "markdown",
   "id": "b2729c97-c5e4-46b5-8e9b-2eafc1d67798",
   "metadata": {},
   "source": [
    "## Assignment-1 Python"
   ]
  },
  {
   "cell_type": "markdown",
   "id": "08fac37f-f545-47ab-b416-49d5ec0ab68f",
   "metadata": {},
   "source": [
    "#### 1. Explain the Key Features of Python that makes it a popular choice for programming."
   ]
  },
  {
   "cell_type": "raw",
   "id": "69c9c7d6-efce-4290-bd9e-0445239bbf91",
   "metadata": {},
   "source": [
    "Ans: \n",
    "Some of the Key Feature of Python that make it a popular choice for programming are:\n",
    "*Python has a simple syntax compared to other programming Languages, which makes it first choice for beginners.\n",
    "*Python can be used for Web-Development, Data Science & Analytics, AI & Machine Learning\n",
    "*Python has an active community where users are helping eachother and developing new Libraries"
   ]
  },
  {
   "cell_type": "markdown",
   "id": "06b50fb9-c9fb-4249-98f3-301bbd04f922",
   "metadata": {},
   "source": [
    "#### 2. Describe the role of predefined keywords in Python and provide Examples of how they are used in a programm."
   ]
  },
  {
   "cell_type": "raw",
   "id": "12beb255-fa07-4227-918b-08c623f3ac8d",
   "metadata": {},
   "source": [
    "There are many keywords which are predefined in the Python, and it cannot be used as a variable name.\n",
    "Examples:\n",
    "Conditional statment keywords : if, elif, else #Any of these 3 keywords cannot be used as a variable\n",
    "Boolean Keywords : True, False\n",
    "loop keywords : for, while"
   ]
  },
  {
   "cell_type": "markdown",
   "id": "91948965-197c-48e5-9548-d07ba1f65637",
   "metadata": {},
   "source": [
    "#### 3. Compare the contrast mutable and immutable objects in Python with Examples"
   ]
  },
  {
   "cell_type": "raw",
   "id": "a1ee4279-0d0e-4ab8-a989-b34b8be31e6c",
   "metadata": {},
   "source": [
    "Mutable Objects are those which can be changed after the creation, there values can be modified\n",
    "Examples= list, dictionaries\n",
    "\n",
    "Immutable Objects are those which cannot be changed after there creation.\n",
    "Example = string, tuples"
   ]
  },
  {
   "cell_type": "markdown",
   "id": "1e15f653-a80f-4ed5-bd91-b0262d02d91a",
   "metadata": {},
   "source": [
    "#### 4. Discuss the different types of Operators and provide example of how they are used"
   ]
  },
  {
   "cell_type": "raw",
   "id": "f89b282c-c476-496b-9339-8d01f14a472d",
   "metadata": {},
   "source": [
    "Please find below the types of Operators used in Python.\n",
    "1. Arithemetic Operators : +, -, *, /, %, **\n",
    "2. Comparison Operators : ==, !=, >, >=, <, <=\n",
    "3. Logical Operators : AND, OR\n",
    "4. Assignemnt Operators\n",
    "5. Membership Operators : in, not in\n",
    "6. Identity Operators : is, is not\n",
    "7. Bitwise Operators"
   ]
  },
  {
   "cell_type": "code",
   "execution_count": 34,
   "id": "dd0fe302-8120-45d6-bf0f-5168d7e2e01d",
   "metadata": {},
   "outputs": [
    {
     "data": {
      "text/plain": [
       "(15, 5, 45, 25, 1)"
      ]
     },
     "execution_count": 34,
     "metadata": {},
     "output_type": "execute_result"
    }
   ],
   "source": [
    "#1. Arithemetic Operators : +, -, *, /, %\n",
    "a= 5+10   #Addition\n",
    "b= 10-5   #Subtraction\n",
    "c= 5*9    #multiplication\n",
    "d= 5**2   #Square **2 denotes that it will get the square of the number\n",
    "e= 10%3   #%Modulus - it will give us the remainder\n",
    "\n",
    "a, b, c, d, e"
   ]
  },
  {
   "cell_type": "code",
   "execution_count": 41,
   "id": "4c50173d-b2b1-4ace-b5d3-de7155d70b68",
   "metadata": {},
   "outputs": [
    {
     "name": "stdout",
     "output_type": "stream",
     "text": [
      "True\n",
      "True\n",
      "True\n",
      "True\n"
     ]
    }
   ],
   "source": [
    "#2. Comparison Operators : ==, !=, >, >=, <, <=\n",
    "a = 20\n",
    "b = 23\n",
    "c = 20\n",
    "\n",
    "print(a==c)   # Equal to\n",
    "print(a!=b)   # not euqal to\n",
    "print(a<=b)   # Less than or equal to\n",
    "print(b>=c)   # Greater than or equal to"
   ]
  },
  {
   "cell_type": "code",
   "execution_count": 51,
   "id": "7830aafc-a1ba-491f-af74-76d28f82886f",
   "metadata": {},
   "outputs": [
    {
     "name": "stdout",
     "output_type": "stream",
     "text": [
      "False\n",
      "True\n"
     ]
    }
   ],
   "source": [
    "#3. Logical Operators : AND, OR\n",
    "a=4\n",
    "b=3\n",
    "\n",
    "print(a > b and b > a)   # Here both conditions needs to be True to get the result as True\n",
    "print(b > a or b < a)    # Here one condition return the result as True"
   ]
  },
  {
   "cell_type": "code",
   "execution_count": 53,
   "id": "97f8c6f8-0e7d-4bf8-bdb7-82d55e3b973c",
   "metadata": {},
   "outputs": [
    {
     "name": "stdout",
     "output_type": "stream",
     "text": [
      "True\n",
      "True\n"
     ]
    }
   ],
   "source": [
    "#5. Membership Operators : in, not in\n",
    "string=\"knight\"\n",
    "\n",
    "print(\"a\" not in string)\n",
    "print(\"g\" in string)"
   ]
  },
  {
   "cell_type": "code",
   "execution_count": 54,
   "id": "706130de-abe6-48ec-981d-0c353bc4b4b0",
   "metadata": {},
   "outputs": [
    {
     "name": "stdout",
     "output_type": "stream",
     "text": [
      "False\n",
      "True\n"
     ]
    }
   ],
   "source": [
    "#6. Identity Operators : is, is not\n",
    "\n",
    "a=5\n",
    "b=6\n",
    "\n",
    "print(a is b)\n",
    "print(a is not b)"
   ]
  },
  {
   "cell_type": "markdown",
   "id": "3735a11d-408c-4f4d-a066-b3d4987081d2",
   "metadata": {},
   "source": [
    "#### 5. Explain the concept of type casting with Examples."
   ]
  },
  {
   "cell_type": "code",
   "execution_count": 21,
   "id": "d39353dd-3c22-4865-9577-3ba4ea5a66d7",
   "metadata": {},
   "outputs": [
    {
     "data": {
      "text/plain": [
       "str"
      ]
     },
     "execution_count": 21,
     "metadata": {},
     "output_type": "execute_result"
    }
   ],
   "source": [
    "#Type casting is a way to convert the Data-type of a variable in python.\n",
    "\n",
    "#Examples\n",
    "\n",
    "#1. Converting integer to string\n",
    "a=15        #here values of a is an integer value\n",
    "a=str(a)    #this line of code will change the datatype of variable a from integer to string\n",
    "type(a)"
   ]
  },
  {
   "cell_type": "code",
   "execution_count": 23,
   "id": "e7e5936b-1eee-4f76-aff5-a1119b7f2720",
   "metadata": {},
   "outputs": [
    {
     "data": {
      "text/plain": [
       "float"
      ]
     },
     "execution_count": 23,
     "metadata": {},
     "output_type": "execute_result"
    }
   ],
   "source": [
    "#2. Coverting integer to Float\n",
    "a=23        #here values of a is an integer value\n",
    "a=float(a)  #this line of code will change the datatype of variable 'a' from integer to float\n",
    "type(a)"
   ]
  },
  {
   "cell_type": "code",
   "execution_count": 25,
   "id": "c2005204-071d-4af6-866d-054fe1ad1353",
   "metadata": {},
   "outputs": [
    {
     "data": {
      "text/plain": [
       "23"
      ]
     },
     "execution_count": 25,
     "metadata": {},
     "output_type": "execute_result"
    }
   ],
   "source": [
    "#3. Coverting float to integer\n",
    "a=23.7       #here values of a is an float value\n",
    "a=int(a)     #this line of code will change the datatype of variable 'a' from float to integer\n",
    "type(a)"
   ]
  },
  {
   "cell_type": "markdown",
   "id": "93d5a0e6-4854-44ad-bb9e-6e3091b742a4",
   "metadata": {},
   "source": [
    "#### 6. How do conditional statements work in Python. Illustrate with Examples"
   ]
  },
  {
   "cell_type": "code",
   "execution_count": 16,
   "id": "8317331a-35c0-4461-86bc-9bf2dd353317",
   "metadata": {},
   "outputs": [
    {
     "name": "stdin",
     "output_type": "stream",
     "text": [
      "Enter the first number:  11\n",
      "Enter the second number:  17\n"
     ]
    },
    {
     "name": "stdout",
     "output_type": "stream",
     "text": [
      "17 is greater than 11\n"
     ]
    }
   ],
   "source": [
    "#Conditional statement in Python is if-else.\n",
    "#if the condition is True then it will execute the block of Code whatever is written inside the block.\n",
    "#else it will execute the other block of code.\n",
    "#we can also use if-elif-else to describe multiple condition and out of all the conditions whichever condition, \\n\n",
    "##return the result as True, Python will execute the block of code which is inside that condition.\n",
    "\n",
    "#Example of condition statement\n",
    "#To check which number is greater and smaller number by taking input from Users.\n",
    "\n",
    "\n",
    "num1=int(input(\"Enter the first number: \"))\n",
    "num2=int(input(\"Enter the second number: \"))\n",
    "           \n",
    "if num1>num2:\n",
    "    print(num1, \"is greater than\", num2)\n",
    "elif num2>num1:\n",
    "    print(num2, \"is greater than\", num1)\n",
    "else:\n",
    "    print(\"Both numbers are Equal.\")"
   ]
  },
  {
   "cell_type": "markdown",
   "id": "842922b8-86b6-49b4-8e79-9587dada6724",
   "metadata": {},
   "source": [
    "#### 7. Describe the different types of loops in Python and their use cases with examples."
   ]
  },
  {
   "cell_type": "raw",
   "id": "7d1de9d3-a39e-42d6-811d-c794aeadd243",
   "metadata": {},
   "source": [
    "there are 2 types of loop statement in Python\n",
    "* for loop - it is used for iterating over a sequence of elements\n",
    "\n",
    "* while loop - It will execute untill the condition is True"
   ]
  },
  {
   "cell_type": "code",
   "execution_count": 64,
   "id": "854cbb7e-4c42-460f-adc2-d5dede8ca4fe",
   "metadata": {},
   "outputs": [
    {
     "name": "stdout",
     "output_type": "stream",
     "text": [
      "7 x 1 = 7\n",
      "7 x 2 = 14\n",
      "7 x 3 = 21\n",
      "7 x 4 = 28\n",
      "7 x 5 = 35\n",
      "7 x 6 = 42\n",
      "7 x 7 = 49\n",
      "7 x 8 = 56\n",
      "7 x 9 = 63\n",
      "7 x 10 = 70\n"
     ]
    }
   ],
   "source": [
    "#  for Loop\n",
    "num=7\n",
    "for i in range(1,11):\n",
    "    print(num, \"x\", i, \"=\", i*num)   \n"
   ]
  },
  {
   "cell_type": "code",
   "execution_count": 69,
   "id": "def4d0bf-da11-4dc1-8371-1f00343d5abb",
   "metadata": {},
   "outputs": [
    {
     "name": "stdin",
     "output_type": "stream",
     "text": [
      "Enter the first number:  2\n",
      "Enter the second numbr:  2\n"
     ]
    },
    {
     "name": "stdout",
     "output_type": "stream",
     "text": [
      "4\n"
     ]
    },
    {
     "name": "stdin",
     "output_type": "stream",
     "text": [
      "Do you want check other numbers addition(Yes/No):  yes\n",
      "Enter the first number:  1\n",
      "Enter the second numbr:  2\n"
     ]
    },
    {
     "name": "stdout",
     "output_type": "stream",
     "text": [
      "3\n"
     ]
    },
    {
     "name": "stdin",
     "output_type": "stream",
     "text": [
      "Do you want check other numbers addition(Yes/No):  No\n"
     ]
    }
   ],
   "source": [
    "#While Loop\n",
    "\n",
    "while True:\n",
    "    num1=int(input(\"Enter the first number: \"))\n",
    "    num2=int(input(\"Enter the second numbr: \"))\n",
    "    print(num1+num2)\n",
    "    repeat=str(input(\"Do you want check other numbers addition(Yes/No): \"))\n",
    "    if repeat==\"No\":\n",
    "        break\n",
    "    else:\n",
    "        continue"
   ]
  },
  {
   "cell_type": "code",
   "execution_count": null,
   "id": "db3905d5-f686-4479-8d90-4c54e2a8d62c",
   "metadata": {},
   "outputs": [],
   "source": [
    "a"
   ]
  }
 ],
 "metadata": {
  "kernelspec": {
   "display_name": "Python 3 (ipykernel)",
   "language": "python",
   "name": "python3"
  },
  "language_info": {
   "codemirror_mode": {
    "name": "ipython",
    "version": 3
   },
   "file_extension": ".py",
   "mimetype": "text/x-python",
   "name": "python",
   "nbconvert_exporter": "python",
   "pygments_lexer": "ipython3",
   "version": "3.10.8"
  }
 },
 "nbformat": 4,
 "nbformat_minor": 5
}
